{
  "nbformat": 4,
  "nbformat_minor": 0,
  "metadata": {
    "colab": {
      "provenance": [],
      "mount_file_id": "1e6iUOwd8NaVkBwvhlxsBK0r3EvRYVAG6",
      "authorship_tag": "ABX9TyNh5RmqzmTS1gkQ2DKhkxwl",
      "include_colab_link": true
    },
    "kernelspec": {
      "name": "python3",
      "display_name": "Python 3"
    },
    "language_info": {
      "name": "python"
    }
  },
  "cells": [
    {
      "cell_type": "markdown",
      "metadata": {
        "id": "view-in-github",
        "colab_type": "text"
      },
      "source": [
        "<a href=\"https://colab.research.google.com/github/bartala/PCLvsCAPS/blob/main/Reduced_PCL.ipynb\" target=\"_parent\"><img src=\"https://colab.research.google.com/assets/colab-badge.svg\" alt=\"Open In Colab\"/></a>"
      ]
    },
    {
      "cell_type": "code",
      "execution_count": 1,
      "metadata": {
        "id": "VeEYaVTHJfbp"
      },
      "outputs": [],
      "source": [
        "import numpy as np\n",
        "import pandas as pd\n",
        "from io import StringIO\n",
        "from sklearn.metrics import roc_curve, auc\n",
        "\n",
        "\n",
        "PTH = '/content/drive/MyDrive/Colab Notebooks/Postpartum_depression/Reduced_PCL/data'"
      ]
    },
    {
      "cell_type": "code",
      "source": [
        "df = pd.read_excel(f'{PTH}/PCL_CAPS_ALL.xlsx')\n",
        "df = df.iloc[:,2:23]\n",
        "df['PCL_total'] = df.iloc[:,0:20].sum(axis=1)\n",
        "df['PCL_reduced_total'] = df[[\"pcl_q10\",\"pcl_q2\",\"pcl_q7\",\"pcl_q15\",\"pcl_q4\",\"pcl_q9\"]].sum(axis=1)\n",
        "df"
      ],
      "metadata": {
        "id": "2hgZMCJTLOTe",
        "collapsed": true
      },
      "execution_count": null,
      "outputs": []
    },
    {
      "cell_type": "code",
      "source": [
        "print(df['PCL_total'].mean(),\n",
        "\",\",\n",
        "df['PCL_total'].max(),\n",
        "\",\",\n",
        "df['PCL_total'].min()\n",
        ")"
      ],
      "metadata": {
        "colab": {
          "base_uri": "https://localhost:8080/"
        },
        "id": "XAMpXsQ5ex0L",
        "outputId": "26eb3f92-1851-49c1-e3b4-7db09746861c"
      },
      "execution_count": 3,
      "outputs": [
        {
          "output_type": "stream",
          "name": "stdout",
          "text": [
            "18.588785046728972 , 57 , 0\n"
          ]
        }
      ]
    },
    {
      "cell_type": "code",
      "source": [
        "# Calc AUC with no ML model\n",
        "\n",
        "import numpy as np\n",
        "from sklearn.metrics import roc_auc_score, roc_curve\n",
        "\n",
        "# CAPS: 0/1 ground truth, PCL5: total score 0–80 (float/int)\n",
        "CAPS = df['caps_ptsd1']\n",
        "PCL5 = df['PCL_total'] #PCL_total\n",
        "#PCL5 = df['PCL_reduced_total']\n",
        "\n",
        "CAPS = np.asarray(CAPS, dtype=float)\n",
        "PCL5 = np.asarray(PCL5, dtype=float)\n",
        "\n",
        "# drop NaNs if any\n",
        "mask = ~np.isnan(CAPS) & ~np.isnan(PCL5)\n",
        "y = CAPS[mask]\n",
        "x = PCL5[mask]\n",
        "\n",
        "# If higher PCL-5 means more likely PTSD (it does), use as-is:\n",
        "auc_val = roc_auc_score(y, x)\n",
        "fpr, tpr, thresholds = roc_curve(y, x)   # for plotting if needed\n",
        "\n",
        "print(\"AUC:\", auc_val)\n"
      ],
      "metadata": {
        "colab": {
          "base_uri": "https://localhost:8080/"
        },
        "id": "3CJ2D-5urPWm",
        "outputId": "f17301b0-f17a-4b77-fa8b-fdea27674a83"
      },
      "execution_count": 4,
      "outputs": [
        {
          "output_type": "stream",
          "name": "stdout",
          "text": [
            "AUC: 0.9231481481481482\n"
          ]
        }
      ]
    },
    {
      "cell_type": "code",
      "source": [
        "import numpy as np\n",
        "from sklearn.metrics import roc_auc_score\n",
        "\n",
        "y = CAPS[mask].astype(int)\n",
        "x = PCL5[mask].astype(float)\n",
        "\n",
        "auc = roc_auc_score(y, x)\n",
        "n1 = np.sum(y == 1)   # positives\n",
        "n0 = np.sum(y == 0)   # negatives\n",
        "\n",
        "# Hanley–McNeil (1982) variance\n",
        "Q1 = auc / (2 - auc)\n",
        "Q2 = 2 * auc**2 / (1 + auc)\n",
        "var = (auc*(1 - auc) + (n1 - 1)*(Q1 - auc**2) + (n0 - 1)*(Q2 - auc**2)) / (n0 * n1)\n",
        "se = np.sqrt(var)\n",
        "\n",
        "z = 1.96  # for ~95% CI\n",
        "ci_lower = max(0.0, auc - z*se)\n",
        "ci_upper = min(1.0, auc + z*se)\n",
        "\n",
        "print(f\"AUC = {auc:.3f} (95% CI {ci_lower:.3f}–{ci_upper:.3f})\")"
      ],
      "metadata": {
        "colab": {
          "base_uri": "https://localhost:8080/"
        },
        "id": "2IaU3Z0hiTkb",
        "outputId": "aceee325-e507-4c98-9d57-37f711c339a6"
      },
      "execution_count": 5,
      "outputs": [
        {
          "output_type": "stream",
          "name": "stdout",
          "text": [
            "AUC = 0.923 (95% CI 0.851–0.995)\n"
          ]
        }
      ]
    },
    {
      "cell_type": "code",
      "source": [
        "import pandas as pd\n",
        "from sklearn.metrics import confusion_matrix, roc_curve, auc\n",
        "\n",
        "#X = df['PCL_total']\n",
        "X = df['PCL_reduced_total']\n",
        "y = df['caps_ptsd1']\n",
        "\n",
        "thresholds = range(1, 18) # range(19,38) # for full 20 item set\n",
        "results = []\n",
        "\n",
        "for thr in thresholds:\n",
        "    y_pred = (X >= thr).astype(int)\n",
        "\n",
        "    # confusion matrix: tn, fp, fn, tp\n",
        "    tn, fp, fn, tp = confusion_matrix(y, y_pred).ravel()\n",
        "\n",
        "    sensitivity = tp / (tp + fn) if (tp + fn) > 0 else float('nan')  # recall\n",
        "    specificity = tn / (tn + fp) if (tn + fp) > 0 else float('nan')\n",
        "    ppv = tp / (tp + fp) if (tp + fp) > 0 else float('nan')\n",
        "    npv = tn / (tn + fn) if (tn + fn) > 0 else float('nan')\n",
        "    j_stat = sensitivity + specificity - 1\n",
        "\n",
        "    fpr, tpr, _ = roc_curve(y, y_pred)\n",
        "    roc_auc_thr = auc(fpr, tpr)\n",
        "\n",
        "    results.append((thr, sensitivity, specificity, ppv, npv, j_stat, roc_auc_thr))\n",
        "\n",
        "results_df = pd.DataFrame(results, columns=[\n",
        "    'Threshold', 'Sensitivity', 'Specificity',\n",
        "    'PPV', 'NPV', 'J_statistic', 'AUC'\n",
        "])\n",
        "\n",
        "print(results_df)\n"
      ],
      "metadata": {
        "id": "NThy3Y3UJqdD"
      },
      "execution_count": null,
      "outputs": []
    }
  ]
}